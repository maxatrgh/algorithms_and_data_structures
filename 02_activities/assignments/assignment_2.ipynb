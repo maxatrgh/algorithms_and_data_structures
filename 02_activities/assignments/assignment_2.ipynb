{
 "cells": [
  {
   "cell_type": "markdown",
   "metadata": {},
   "source": [
    "# Practice Interview\n",
    "\n",
    "## Objective\n",
    "\n",
    "_*The partner assignment aims to provide participants with the opportunity to practice coding in an interview context. You will analyze your partner's Assignment 1. Moreover, code reviews are common practice in a software development team. This assignment should give you a taste of the code review process.*_\n",
    "\n",
    "## Group Size\n",
    "\n",
    "Each group should have 2 people. You will be assigned a partner\n",
    "\n",
    "## Part 1:\n",
    "\n",
    "You and your partner must share each other's Assignment 1 submission."
   ]
  },
  {
   "cell_type": "markdown",
   "metadata": {},
   "source": [
    "\n",
    "## Part 2:\n",
    "\n",
    "Create a Jupyter Notebook, create 6 of the following headings, and complete the following for your partner's assignment 1:\n",
    "\n",
    "-   Paraphrase the problem in your own words.\n"
   ]
  },
  {
   "cell_type": "code",
   "execution_count": 11,
   "metadata": {},
   "outputs": [
    {
     "data": {
      "text/plain": [
       "'\\nGiven the root of a binary tree. \\nThe task is to find all possible paths from the root to the leaf nodes. \\nReturn these paths in any order.\\n'"
      ]
     },
     "execution_count": 11,
     "metadata": {},
     "output_type": "execute_result"
    }
   ],
   "source": [
    "# Your answer here\n",
    "'''\n",
    "Given the root of a binary tree. \n",
    "The task is to find all possible paths from the root to the leaf nodes. \n",
    "Return these paths in any order.\n",
    "'''"
   ]
  },
  {
   "cell_type": "markdown",
   "metadata": {},
   "source": [
    "\n",
    "-   Create 1 new example that demonstrates you understand the problem. Trace/walkthrough 1 example that your partner made and explain it.\n"
   ]
  },
  {
   "cell_type": "code",
   "execution_count": 12,
   "metadata": {},
   "outputs": [],
   "source": [
    "# Your answer here\n",
    "# My examle\n",
    "# Input: root = [1, 3, 4, 6, 7, 9, 10]\n",
    "# Output: [[1, 3, 7], [1, 3, 6], [1, 4, 9], [1, 4, 10]]\n",
    "\n",
    "# Partner's example\n",
    "# Input: root = [1,2,3,4]\n",
    "# Output: [[1,2,4], [1,3]]\n",
    "# Starting the path from the root 1, we go to the left leaf 2 and \n",
    "# then to the next left leaf 4. \n",
    "# Then another path: the root 1 and the right leaf 3\n"
   ]
  },
  {
   "cell_type": "markdown",
   "metadata": {},
   "source": [
    "\n",
    "-   Copy the solution your partner wrote. \n"
   ]
  },
  {
   "cell_type": "code",
   "execution_count": 13,
   "metadata": {},
   "outputs": [],
   "source": [
    "# Your answer here\n",
    "from typing import List, Optional\n",
    "\n",
    "# Definition for a binary tree node.\n",
    "class TreeNode(object):\n",
    "    def __init__(self, val = 0, left = None, right = None):\n",
    "        self.val = val\n",
    "        self.left = left\n",
    "        self.right = right\n",
    "\n",
    "def bt_path(root: TreeNode) -> List[List[int]]:\n",
    "    if not root:\n",
    "        return []\n",
    "    \n",
    "    result = []\n",
    "    \n",
    "    def dfs(node: TreeNode, current_path: List[int]):\n",
    "        current_path.append(node.val)\n",
    "        \n",
    "        if not node.left and not node.right:\n",
    "            result.append(current_path[:])\n",
    "        \n",
    "        if node.left:\n",
    "            dfs(node.left, current_path)\n",
    "        if node.right:\n",
    "            dfs(node.right, current_path)\n",
    "        \n",
    "        current_path.pop()\n",
    "    \n",
    "    dfs(root, [])\n",
    "    return result\n",
    "\n"
   ]
  },
  {
   "cell_type": "markdown",
   "metadata": {},
   "source": [
    "\n",
    "-   Explain why their solution works in your own words.\n"
   ]
  },
  {
   "cell_type": "code",
   "execution_count": 14,
   "metadata": {},
   "outputs": [
    {
     "data": {
      "text/plain": [
       "'This solution works because it uses DFS to visit every path from the root \\nto the leaf nodes. It keeps track of each path by adding node values to a list. \\nWhen it reaches a leaf node, it saves the current path. Then, it goes back to \\nexplore other paths. In the end, it returns all the paths it found.\\n'"
      ]
     },
     "execution_count": 14,
     "metadata": {},
     "output_type": "execute_result"
    }
   ],
   "source": [
    "# Your answer here\n",
    "'''This solution works because it uses DFS to visit every path from the root \n",
    "to the leaf nodes. It keeps track of each path by adding node values to a list. \n",
    "When it reaches a leaf node, it saves the current path. Then, it goes back to \n",
    "explore other paths. In the end, it returns all the paths it found.\n",
    "'''\n"
   ]
  },
  {
   "cell_type": "markdown",
   "metadata": {},
   "source": [
    "\n",
    "-   Explain the problem’s time and space complexity in your own words.\n"
   ]
  },
  {
   "cell_type": "code",
   "execution_count": null,
   "metadata": {},
   "outputs": [],
   "source": [
    "# Your answer here\n",
    "'''\n",
    "The space complexity is O(h) for the recursion stack, where h is the height of the tree.\n",
    "To store all the paths we require O(nL), where L is the average length of each path.\n",
    "'''"
   ]
  },
  {
   "cell_type": "markdown",
   "metadata": {},
   "source": [
    "\n",
    "-   Critique your partner's solution, including explanation, and if there is anything that should be adjusted.\n"
   ]
  },
  {
   "cell_type": "code",
   "execution_count": 17,
   "metadata": {},
   "outputs": [],
   "source": [
    "# Your answer here\n",
    "# The solution is correct and efficient"
   ]
  },
  {
   "cell_type": "markdown",
   "metadata": {},
   "source": [
    "\n",
    "## Part 3:\n",
    "\n",
    "Please write a 200 word reflection documenting your process from assignment 1, and your presentation and review experience with your partner at the bottom of the Jupyter Notebook under a new heading \"Reflection.\" Again, export this Notebook as pdf.\n"
   ]
  },
  {
   "cell_type": "markdown",
   "metadata": {},
   "source": [
    "### Reflection"
   ]
  },
  {
   "cell_type": "code",
   "execution_count": 18,
   "metadata": {},
   "outputs": [
    {
     "data": {
      "text/plain": [
       "'In Assignment 1, my task was to check if a binary tree has duplicate values and return \\nthe one closest to the root. If no duplicates were found, I needed to return -1. I used a \\ndeque for level-order traversal because it checks nodes level by level, ensuring I find \\nthe closest duplicate first. This approach was effective and made the solution easy to \\nunderstand.\\nMy partner’s assignment was to find all root-to-leaf paths in a binary tree. He used DFS \\nto explore each path deeply before moving to the next one. During the review, I revisited \\nthe differences between level-order traversal and DFS. \\nThis review helped me learn more about different tree traversal methods and be more aware \\nof writing clear and organized code.\\n'"
      ]
     },
     "execution_count": 18,
     "metadata": {},
     "output_type": "execute_result"
    }
   ],
   "source": [
    "# Your answer here\n",
    "'''In Assignment 1, my task was to check if a binary tree has duplicate values and return \n",
    "the one closest to the root. If no duplicates were found, I needed to return -1. I used a \n",
    "deque for level-order traversal because it checks nodes level by level, ensuring I find \n",
    "the closest duplicate first. This approach was effective and made the solution easy to \n",
    "understand.\n",
    "My partner’s assignment was to find all root-to-leaf paths in a binary tree. He used DFS \n",
    "to explore each path deeply before moving to the next one. During the review, I revisited \n",
    "the differences between level-order traversal and DFS. \n",
    "This review helped me learn more about different tree traversal methods and be more aware \n",
    "of writing clear and organized code.\n",
    "'''"
   ]
  },
  {
   "cell_type": "markdown",
   "metadata": {},
   "source": [
    "\n",
    "## Evaluation Criteria\n",
    "\n",
    "We are looking for the similar points as Assignment 1\n",
    "\n",
    "-   Problem is accurately stated\n",
    "\n",
    "-   New example is correct and easily understandable\n",
    "\n",
    "-   Correctness, time, and space complexity of the coding solution\n",
    "\n",
    "-   Clarity in explaining why the solution works, its time and space complexity\n",
    "\n",
    "-   Quality of critique of your partner's assignment, if necessary\n"
   ]
  },
  {
   "cell_type": "markdown",
   "metadata": {},
   "source": [
    "## Submission Information\n",
    "\n",
    "🚨 **Please review our [Assignment Submission Guide](https://github.com/UofT-DSI/onboarding/blob/main/onboarding_documents/submissions.md)** 🚨 for detailed instructions on how to format, branch, and submit your work. Following these guidelines is crucial for your submissions to be evaluated correctly.\n",
    "\n",
    "### Submission Parameters:\n",
    "* Submission Due Date: `HH:MM AM/PM - DD/MM/YYYY`\n",
    "* The branch name for your repo should be: `assignment-2`\n",
    "* What to submit for this assignment:\n",
    "    * This Jupyter Notebook (assignment_2.ipynb) should be populated and should be the only change in your pull request.\n",
    "* What the pull request link should look like for this assignment: `https://github.com/<your_github_username>/algorithms_and_data_structures/pull/<pr_id>`\n",
    "    * Open a private window in your browser. Copy and paste the link to your pull request into the address bar. Make sure you can see your pull request properly. This helps the technical facilitator and learning support staff review your submission easily.\n",
    "\n",
    "Checklist:\n",
    "- [ ] Created a branch with the correct naming convention.\n",
    "- [ ] Ensured that the repository is public.\n",
    "- [ ] Reviewed the PR description guidelines and adhered to them.\n",
    "- [ ] Verify that the link is accessible in a private browser window.\n",
    "\n",
    "If you encounter any difficulties or have questions, please don't hesitate to reach out to our team via our Slack at `#cohort-3-help`. Our Technical Facilitators and Learning Support staff are here to help you navigate any challenges.\n"
   ]
  }
 ],
 "metadata": {
  "kernelspec": {
   "display_name": "dsi_participant",
   "language": "python",
   "name": "python3"
  },
  "language_info": {
   "codemirror_mode": {
    "name": "ipython",
    "version": 3
   },
   "file_extension": ".py",
   "mimetype": "text/x-python",
   "name": "python",
   "nbconvert_exporter": "python",
   "pygments_lexer": "ipython3",
   "version": "3.9.15"
  }
 },
 "nbformat": 4,
 "nbformat_minor": 2
}
